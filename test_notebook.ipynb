{
 "cells": [
  {
   "cell_type": "markdown",
   "metadata": {},
   "source": [
    "# Rolling Windows Tutorial\n",
    "\n",
    "This is the beginning of a tutorial for using the version of Rolling Windows developed in April 2024."
   ]
  },
  {
   "cell_type": "code",
   "execution_count": 1,
   "metadata": {},
   "outputs": [],
   "source": [
    "# This is only necessary for running the module from a local folder\n",
    "import sys\n",
    "sys.path.insert(1, \"C:/Users/scott/Documents/apis/lexos-to-clean/working_dev/\")\n",
    "\n",
    "import spacy"
   ]
  },
  {
   "cell_type": "markdown",
   "metadata": {},
   "source": [
    "## Load a spaCy Document\n",
    "\n",
    "Before starting with Rolling Windows, we'll load a text and convert it to a spaCy document. Eventually, this should be done with Lexos loader."
   ]
  },
  {
   "cell_type": "code",
   "execution_count": 2,
   "metadata": {},
   "outputs": [],
   "source": [
    "model = \"en_core_web_sm\"\n",
    "nlp = spacy.load(model)\n",
    "with open(\"text_md.txt\", \"r\", encoding=\"utf-8\") as f:\n",
    "    text = f.read()\n",
    "doc = nlp(text)"
   ]
  },
  {
   "cell_type": "markdown",
   "metadata": {},
   "source": [
    "## Import Rolling Windows\n",
    "\n",
    "Note that the code should eventually just say `import rollingwindows` once the module is integrated into Lexos."
   ]
  },
  {
   "cell_type": "code",
   "execution_count": 3,
   "metadata": {},
   "outputs": [],
   "source": [
    "import rollingwindows2 as rollingwindows"
   ]
  },
  {
   "cell_type": "markdown",
   "metadata": {},
   "source": [
    "## Assign Milestones\n",
    "\n",
    "Currently, the Lexos API's `milestones` submodule is the one that works. It has been copied into the `rollingwindows2` folder so that it can be importe locally without messing with paths."
   ]
  },
  {
   "cell_type": "code",
   "execution_count": 4,
   "metadata": {},
   "outputs": [
    {
     "data": {
      "text/plain": [
       "[{'text': 'PARAGRAPH',\n",
       "  'characters': 'PARAGRAPH',\n",
       "  'start_token': 0,\n",
       "  'end_token': 1,\n",
       "  'start_char': 0,\n",
       "  'end_char': 8},\n",
       " {'text': 'PARAGRAPH',\n",
       "  'characters': 'PARAGRAPH',\n",
       "  'start_token': 67,\n",
       "  'end_token': 68,\n",
       "  'start_char': 331,\n",
       "  'end_char': 339},\n",
       " {'text': 'PARAGRAPH',\n",
       "  'characters': 'PARAGRAPH',\n",
       "  'start_token': 125,\n",
       "  'end_token': 126,\n",
       "  'start_char': 655,\n",
       "  'end_char': 663},\n",
       " {'text': 'PARAGRAPH',\n",
       "  'characters': 'PARAGRAPH',\n",
       "  'start_token': 166,\n",
       "  'end_token': 167,\n",
       "  'start_char': 871,\n",
       "  'end_char': 879},\n",
       " {'text': 'PARAGRAPH',\n",
       "  'characters': 'PARAGRAPH',\n",
       "  'start_token': 206,\n",
       "  'end_token': 207,\n",
       "  'start_char': 1095,\n",
       "  'end_char': 1103},\n",
       " {'text': 'PARAGRAPH',\n",
       "  'characters': 'PARAGRAPH',\n",
       "  'start_token': 327,\n",
       "  'end_token': 328,\n",
       "  'start_char': 1719,\n",
       "  'end_char': 1727},\n",
       " {'text': 'PARAGRAPH',\n",
       "  'characters': 'PARAGRAPH',\n",
       "  'start_token': 441,\n",
       "  'end_token': 442,\n",
       "  'start_char': 2293,\n",
       "  'end_char': 2301},\n",
       " {'text': 'PARAGRAPH',\n",
       "  'characters': 'PARAGRAPH',\n",
       "  'start_token': 534,\n",
       "  'end_token': 535,\n",
       "  'start_char': 2783,\n",
       "  'end_char': 2791},\n",
       " {'text': 'PARAGRAPH',\n",
       "  'characters': 'PARAGRAPH',\n",
       "  'start_token': 627,\n",
       "  'end_token': 628,\n",
       "  'start_char': 3274,\n",
       "  'end_char': 3282}]"
      ]
     },
     "execution_count": 4,
     "metadata": {},
     "output_type": "execute_result"
    }
   ],
   "source": [
    "from rollingwindows2 import milestones\n",
    "\n",
    "ms = milestones.Milestones(doc, nlp=\"en_core_web_sm\")\n",
    "spans = ms.get_matches(patterns=[\"PARAGRAPH\"], mode=\"string\")\n",
    "ms.set_milestones(spans)\n",
    "ms.to_list()"
   ]
  },
  {
   "cell_type": "code",
   "execution_count": 5,
   "metadata": {},
   "outputs": [
    {
     "data": {
      "text/plain": [
       "[{'PARAGRAPH': (0, 8)},\n",
       " {'PARAGRAPH': (331, 339)},\n",
       " {'PARAGRAPH': (655, 663)},\n",
       " {'PARAGRAPH': (871, 879)},\n",
       " {'PARAGRAPH': (1095, 1103)},\n",
       " {'PARAGRAPH': (1719, 1727)},\n",
       " {'PARAGRAPH': (2293, 2301)},\n",
       " {'PARAGRAPH': (2783, 2791)},\n",
       " {'PARAGRAPH': (3274, 3282)}]"
      ]
     },
     "execution_count": 5,
     "metadata": {},
     "output_type": "execute_result"
    }
   ],
   "source": [
    "milestone_labels = [\n",
    "    {x[\"text\"]: (x[\"start_char\"], x[\"end_char\"])}\n",
    "    for x in ms.to_list()\n",
    "]\n",
    "milestone_labels"
   ]
  },
  {
   "cell_type": "markdown",
   "metadata": {},
   "source": [
    "## Create a Rolling Windows Object\n",
    "\n",
    "A `RollingWindows` object must be initialised with a doc and the name of a model. It can also optionally be initialised with `patterns`, which may be a string, spaCy rule, or a list of either. RollingWindow objects have a metadata attribute, which gives access to information about the object's configuration."
   ]
  },
  {
   "cell_type": "code",
   "execution_count": 6,
   "metadata": {},
   "outputs": [
    {
     "data": {
      "text/plain": [
       "{'model': 'en_core_web_sm'}"
      ]
     },
     "execution_count": 6,
     "metadata": {},
     "output_type": "execute_result"
    }
   ],
   "source": [
    "rw = rollingwindows.RollingWindows(doc, model=model, patterns=\"the\")\n",
    "rw.metadata"
   ]
  },
  {
   "cell_type": "markdown",
   "metadata": {},
   "source": [
    "Overview of `RollingWindows` attributes:\n",
    "\n",
    "- `doc` (required): The input doc\n",
    "- `model` (required): The name of the model used to produce the doc\n",
    "- `patterns` (optional): A string or regex pattern, a spaCy rule matcher rule, or a list of any of these to be searched in windows.\n",
    "- `metadata`: A dict produced automatically when the object is instantiated. Values are updated when any of the instance's attributes are changed. "
   ]
  },
  {
   "cell_type": "markdown",
   "metadata": {},
   "source": [
    "## Filters\n",
    "\n",
    "Filters are a way to reduce the token count in a doc without losing token attributes. In the example below, we apply the built-in word filter. The other built-in filter remove stop words.\n",
    "\n",
    "Filters can be used independently, but, when used with Rolling Windows, they are passed to the `RollingWindows.set_windows()` method using the `filter` keyword. There are two ways to use them with Rolling Windows. The first is to import `filters` (as above) and create an instance of the filter class (e.g. `filters.WordFilter`) with the doc in the Rolling Windows object (i.e. `rw.doc`). Individual filters may take additional keywords.\n",
    "\n",
    "All filters have an `id` attribute, which is a string name for the filter. If the string name is passed to `set_windows()`, the filter will be loaded from the registry with the default configuration."
   ]
  },
  {
   "cell_type": "code",
   "execution_count": 7,
   "metadata": {},
   "outputs": [
    {
     "data": {
      "text/plain": [
       "'word_filter'"
      ]
     },
     "execution_count": 7,
     "metadata": {},
     "output_type": "execute_result"
    }
   ],
   "source": [
    "from rollingwindows2 import filters\n",
    "\n",
    "# Create a filter by instantiating the class\n",
    "wordfilter = filters.WordFilter(rw.doc, exclude_digits=True)\n",
    "wordfilter.id # \"word_filter\"\n",
    "\n",
    "# Alternatively, use the filter's id\n",
    "# wordfilter = \"word_filter\""
   ]
  },
  {
   "cell_type": "markdown",
   "metadata": {},
   "source": [
    "Overview of `WordFilter` attributes:\n",
    "\n",
    "- `id`: \"word_filter\". Produced automatically when the class is instantiated.\n",
    "- `doc` (required): A spaCy doc. This will normally be the doc used to create a `RollingWindows` instance.\n",
    "- `spacy_attrs`: A list of spaCy token attributes to preserve in the filtered doc. The default is the complete list of attributes, but custom extensions will need to be added.\n",
    "- `exclude`: By default, single spaces and line breaks are not treated as words.\n",
    "- `exclude_digits`: If `True`, digits will not be treated as words.\n",
    "- `exclude_roman_numerals`: Same as above for Roman numerals, but only works capitalised Roman numerals.\n",
    "- `exclude_pattern`: Additional patterns to add to the default `exclude` list. For instance, `\"a.+\"` would cause all tokens beginning with the letter _a_ not to be treated as words. Patterns can be strings, regex patterns, or a list of either.\n",
    "\n",
    "Overview of `NonStopwordFilter` attributes:\n",
    "\n",
    "- `id`: \"non_stopword_filter\". Produced automatically when the class is instantiated.\n",
    "- `doc` (required): A spaCy doc. This will normally be the doc used to create a `RollingWindows` instance.\n",
    "- `additional_stopwords` (optional): A list of stop words to add to those labelled as stop words by the model.\n",
    "- `case_sensitive`: If `False`, `additional_stopwords` will be converted to lower case, and lower-cased tokens matching items in this list will not be treated as words."
   ]
  },
  {
   "cell_type": "markdown",
   "metadata": {},
   "source": [
    "## Custom Filters\n",
    "\n",
    "Filters are implemented with the `Filter` protocol, which allows you to produce custom filter classes. For instance, you could create a class which returned only tokens starting with the letter \"a\".\n",
    "\n",
    "```python\n",
    "class MyCustomFilter(Filter):\n",
    "\tid: str = \"my_custom_filter\"\n",
    "\n",
    "\tdef __init__(self, doc: spacy.tokens.doc.Doc, *, spacy_attrs: List[str] = SPACY_ATTRS):\n",
    "        self.doc = doc\n",
    "        self.spacy_attrs = spacy_attrs\n",
    "\t\t\t  \n",
    "\t@property\n",
    "\tdef filtered_token_ids(self) -> set:\n",
    "\t\t\"\"\"Get a set of token_ids to keep after filtering.\"\"\"\n",
    "\t\treturn {token.i for token in self.doc if token.text.startswith(\"a\")}\n",
    "\n",
    "    def apply(self) -> spacy.tokens.doc.Doc:\n",
    "        \"\"\"Apply the filter.\"\"\"\n",
    "        return filter_doc(self.doc, self.word_ids, self.spacy_attrs)\n",
    "```\n",
    "\n",
    "The `Filter` protocol automatically builds the `metadata` dict and requires an `apply()` method. This submits the doc, the list of token ids to keep, and the spacy attributes to keep to the `filter_doc` function (which must be imported from the `filters` module). The `filters` module also contains the default spacy attributes list. In the example above, the filtering logic is simple enough to be performed in the `filtered_token_ids` property. Additional keywords can be added to the `__init__()` method as needed."
   ]
  },
  {
   "cell_type": "markdown",
   "metadata": {},
   "source": [
    "## Set the Windows\n",
    "\n",
    "Setting the windows generates the windows based on the number of units, the type of unit (characters, tokens, lines, sentences), and other settings, depending on the type of unit. All settings are recorded in the `RollingWindows` object's metadata.\n",
    "\n",
    "`set_windows()` creates an instance of the `Windows` class, which is a generator assigned to the `windows` attribute of the `RollingWindows` object. You can iterate through the windows with `for rw.windows...`. Note that the `Windows` object contains a generator, which is emptied if you iterate over it -- in that case, you will have to run `set_windows()` again.\n",
    "\n",
    "At present, `set_windows()` has a timer decorator, which will display the time elapsed."
   ]
  },
  {
   "cell_type": "markdown",
   "metadata": {},
   "source": [
    "Overview of `RollingWindows.set_windows()` keywords:\n",
    "\n",
    "- `n` (required): The number of windows to calculate\n",
    "- `window_units` (required): The type of units to count when sliding windows: \"characters\", \"lines\", \"sentences\", or \"tokens\".\n",
    "- `alignment_mode` (optional): Controls how window edges snap to token boundaries. The default is \"strict\" (no snapping). The \"contract\" option will include only tokens completely within the window character boundaries (i.e. some windows may be smaller than `n`). The \"expand\" option will include all tokens partially within the window character boundaries (i.e. some windows may be larger than `n`).\n",
    "- `filter` (optional): The name of a filter or a filter object to apply to the document before windows are generated."
   ]
  },
  {
   "cell_type": "code",
   "execution_count": 8,
   "metadata": {},
   "outputs": [
    {
     "name": "stdout",
     "output_type": "stream",
     "text": [
      "Setting windows...\n",
      "Elapsed time: 0.0\n"
     ]
    }
   ],
   "source": [
    "print(\"Setting windows...\")\n",
    "\n",
    "# Using the filter above\n",
    "# rw.set_windows(1000, \"characters\", filter=wordfilter)\n",
    "\n",
    "# Without using a filter\n",
    "rw.set_windows(50, \"characters\", alignment_mode=\"expand\")"
   ]
  },
  {
   "cell_type": "markdown",
   "metadata": {},
   "source": [
    "## Calculate Rolling Averages\n",
    "\n",
    "Rolling Windows statistics are calculated using calculator classes (\"calculators\"), of which there is currently one: `Averages`.\n",
    "\n",
    "The standard procedure is instantiate a calculator object, supplying all keywords necessary for its configuration. (These need to be discussed below.)\n",
    "\n",
    "The calculator object is then passed to the `RollingWindows.calculate()` method using the `calculator` keyword. Calculators have `id` and `metadata` attributes. The metadata is added to the `RollingWindows.metadata` when `calculate()` is called.\n",
    "\n",
    "If a string name for a calculator is passed to `calculate()`, the calculator will be loaded from the registry and instantiated with the default configuration. The calculator will look for patterns and windows in the `RollingWindows` object.\n",
    "\n",
    "The data calculated is stored in a pandas dataframe in `RollingWindows.result`.\n",
    "\n",
    "At present, `calculate()` has a timer decorator, which will display the time elapsed."
   ]
  },
  {
   "cell_type": "code",
   "execution_count": 9,
   "metadata": {},
   "outputs": [
    {
     "name": "stdout",
     "output_type": "stream",
     "text": [
      "Calculating averages...\n",
      "Elapsed time: 0.02991795539855957\n"
     ]
    },
    {
     "data": {
      "text/html": [
       "<div>\n",
       "<style scoped>\n",
       "    .dataframe tbody tr th:only-of-type {\n",
       "        vertical-align: middle;\n",
       "    }\n",
       "\n",
       "    .dataframe tbody tr th {\n",
       "        vertical-align: top;\n",
       "    }\n",
       "\n",
       "    .dataframe thead th {\n",
       "        text-align: right;\n",
       "    }\n",
       "</style>\n",
       "<table border=\"1\" class=\"dataframe\">\n",
       "  <thead>\n",
       "    <tr style=\"text-align: right;\">\n",
       "      <th></th>\n",
       "      <th>the</th>\n",
       "    </tr>\n",
       "  </thead>\n",
       "  <tbody>\n",
       "    <tr>\n",
       "      <th>0</th>\n",
       "      <td>0.02</td>\n",
       "    </tr>\n",
       "    <tr>\n",
       "      <th>1</th>\n",
       "      <td>0.02</td>\n",
       "    </tr>\n",
       "    <tr>\n",
       "      <th>2</th>\n",
       "      <td>0.02</td>\n",
       "    </tr>\n",
       "    <tr>\n",
       "      <th>3</th>\n",
       "      <td>0.02</td>\n",
       "    </tr>\n",
       "    <tr>\n",
       "      <th>4</th>\n",
       "      <td>0.02</td>\n",
       "    </tr>\n",
       "  </tbody>\n",
       "</table>\n",
       "</div>"
      ],
      "text/plain": [
       "    the\n",
       "0  0.02\n",
       "1  0.02\n",
       "2  0.02\n",
       "3  0.02\n",
       "4  0.02"
      ]
     },
     "execution_count": 9,
     "metadata": {},
     "output_type": "execute_result"
    }
   ],
   "source": [
    "from rollingwindows2 import calculators\n",
    "\n",
    "averages = calculators.Averages(\n",
    "    patterns=rw.patterns,\n",
    "    windows=rw.windows,\n",
    "    search_method=rw.metadata[\"search_method\"],\n",
    "    model=\"en_core_web_sm\"\n",
    ")\n",
    "\n",
    "print(\"Calculating averages...\")\n",
    "rw.calculate(calculator=averages)\n",
    "rw.result.head()\n"
   ]
  },
  {
   "cell_type": "markdown",
   "metadata": {},
   "source": [
    "Overview of `Averages` Attributes:\n",
    "\n",
    "- `patterns` (required): A pattern or list of patterns to search in windows. If patterns have already been assigned to the `RollingWindows` instance, you can pass `rw.patterns`.\n",
    "- `windows` (required): A Windows object containing the windows to search. Generally, you will pass `rw.windows`.\n",
    "- `search_method` (optional): The preliminary search method to use to match patterns. By default, this \"count\", which uses the  Python List `count()` method. Other possibilities are \"regex\", which uses Python's `re.findall()`, `spacy_matcher`, which uses spaCy's Matcher class, and \"re_finditer\", which uses Python's `re.finditer()`. The `Averages` class attempts to assign an appropriate search method for the pattern type, so this attribute generally does not have to be configured.\n",
    "- `model` (optional): The language model to be used for using spaCy's Matcher class  to identify patterns in tokens and spans. Generally, this would be `rw.model`.\n",
    "- `alignment_mode` (optional): Whether to snap searches to token boundaries. Values are \"strict\", \"contract\", and \"expand\".\n",
    "- `doc` (optional): The \"re_finditer\" method returns character start and end indexes in the window. Access to the doc from which the windows was generated is necessary to map these to the token indexes in order to use `alignment_mode`. \n",
    "- `regex` (optional): Whether to use regex for searching.\n",
    "- `case_sensitive` (optional): Whether to make searches case-sensitive.\n"
   ]
  },
  {
   "cell_type": "markdown",
   "metadata": {},
   "source": [
    "## Custom Calculators\n",
    "\n",
    "Calculators are implemented with the `Calculator` protocol, which allows you to produce custom calculator classes. A skeleton calculator is given below.\n",
    "\n",
    "```python\n",
    "class MyCustomCalculator(Calculator):\n",
    "\tid: str = \"my_custom_calculator\"\n",
    "\n",
    "\tdef __init__(self, patterns: Union[list, str], windows: Iterable):\n",
    "                self.patterns = patterns\n",
    "                self.windows = windows\n",
    "                self.data = None\n",
    "\t\t\t  \n",
    "        def run(self) -> spacy.tokens.doc.Doc:\n",
    "                \"\"\"Run the calculator.\"\"\"\n",
    "                ...\n",
    "\n",
    "        def to_df(self) -> pd.DataFrame:\n",
    "                \"\"\"Convert the data to a pandas DataFrame.\"\"\"\n",
    "                ...\n",
    "```\n",
    "\n",
    "The `Calculator` protocol automatically builds the `metadata` dict and requires an `run()` method to perform calculations and save the data to the object's `data` attribute. It also requires a `to_df()` method to convert the data to a pandas DataFrame. The data and DataFrame can take any format, but, if it is to be used for one of the Rolling Windows plotters, it must have patterns as column headers and the calculation for each window in rows."
   ]
  },
  {
   "cell_type": "markdown",
   "metadata": {},
   "source": [
    "## Plotting the Data\n",
    "\n",
    "The Rolling Windows module currently has only one plotter: \"rw_simple_plotter\". If the name of the plotter is passed to the `RollingWindows.plot()` method using the `plotter` keyword, the resulting figure is save as a matplotlib `Figure` to the `RollingWindows.fig` attribute."
   ]
  },
  {
   "cell_type": "code",
   "execution_count": 10,
   "metadata": {},
   "outputs": [
    {
     "data": {
      "image/png": "[encoded data removed]",
      "text/plain": [
       "<Figure size 640x480 with 1 Axes>"
      ]
     },
     "execution_count": 10,
     "metadata": {},
     "output_type": "execute_result"
    }
   ],
   "source": [
    "from rollingwindows2 import plotters\n",
    "\n",
    "rw.plot(plotter=\"rw_simple_plotter\")\n",
    "rw.fig\n"
   ]
  },
  {
   "cell_type": "markdown",
   "metadata": {},
   "source": [
    "## Configuring the Plotter\n",
    "\n",
    "Using \"rw_simple_plotter\" calls the `RWSimplePlotter` class with the default configurations. If you want to configure a `RWSimplePlotter` instance, create it with the appropriate keyword, as in the example below. Then pass the class instance to the `RollingWindows.plot()` method as above.\n",
    "\n",
    "Apart from the `plotter` keyword, `RollingWindows.plot()` has a `show` keyword (a boolean), which, if True, will automatically display the plot, and a `file` keyword, which will automatically save the figure to a file if given a filepath."
   ]
  },
  {
   "cell_type": "code",
   "execution_count": 13,
   "metadata": {},
   "outputs": [
    {
     "ename": "TypeError",
     "evalue": "'NoneType' object is not iterable",
     "output_type": "error",
     "traceback": [
      "\u001b[1;31m---------------------------------------------------------------------------\u001b[0m",
      "\u001b[1;31mTypeError\u001b[0m                                 Traceback (most recent call last)",
      "Cell \u001b[1;32mIn[13], line 8\u001b[0m\n\u001b[0;32m      1\u001b[0m plotter \u001b[38;5;241m=\u001b[39m plotters\u001b[38;5;241m.\u001b[39mRWSimplePlotter(\n\u001b[0;32m      2\u001b[0m     xlabel\u001b[38;5;241m=\u001b[39m\u001b[38;5;124m\"\u001b[39m\u001b[38;5;124mCharacter Count\u001b[39m\u001b[38;5;124m\"\u001b[39m,\n\u001b[0;32m      3\u001b[0m     show_milestones\u001b[38;5;241m=\u001b[39m\u001b[38;5;28;01mTrue\u001b[39;00m,\n\u001b[1;32m   (...)\u001b[0m\n\u001b[0;32m      6\u001b[0m     \u001b[38;5;66;03m# titlepad=64.0\u001b[39;00m\n\u001b[0;32m      7\u001b[0m )\n\u001b[1;32m----> 8\u001b[0m \u001b[43mrw\u001b[49m\u001b[38;5;241;43m.\u001b[39;49m\u001b[43mplot\u001b[49m\u001b[43m(\u001b[49m\u001b[43mplotter\u001b[49m\u001b[38;5;241;43m=\u001b[39;49m\u001b[43mplotter\u001b[49m\u001b[43m)\u001b[49m\n\u001b[0;32m      9\u001b[0m rw\u001b[38;5;241m.\u001b[39mfig\n",
      "File \u001b[1;32mC:\\Users/scott/Documents/apis/lexos-to-clean/working_dev\\rollingwindows2\\__init__.py:173\u001b[0m, in \u001b[0;36mRollingWindows.plot\u001b[1;34m(self, plotter, show, file, **kwargs)\u001b[0m\n\u001b[0;32m    171\u001b[0m \tplotter \u001b[38;5;241m=\u001b[39m rw_components\u001b[38;5;241m.\u001b[39mget(plotter)\n\u001b[0;32m    172\u001b[0m \tplotter \u001b[38;5;241m=\u001b[39m plotter()\n\u001b[1;32m--> 173\u001b[0m \u001b[43mplotter\u001b[49m\u001b[38;5;241;43m.\u001b[39;49m\u001b[43mrun\u001b[49m\u001b[43m(\u001b[49m\u001b[38;5;28;43mself\u001b[39;49m\u001b[38;5;241;43m.\u001b[39;49m\u001b[43mresult\u001b[49m\u001b[43m)\u001b[49m\n\u001b[0;32m    174\u001b[0m \u001b[38;5;28mself\u001b[39m\u001b[38;5;241m.\u001b[39mmetadata[\u001b[38;5;124m\"\u001b[39m\u001b[38;5;124mplotter\u001b[39m\u001b[38;5;124m\"\u001b[39m] \u001b[38;5;241m=\u001b[39m plotter\u001b[38;5;241m.\u001b[39mmetadata\n\u001b[0;32m    175\u001b[0m \u001b[38;5;28mself\u001b[39m\u001b[38;5;241m.\u001b[39mfig \u001b[38;5;241m=\u001b[39m plotter\u001b[38;5;241m.\u001b[39mplot\n",
      "File \u001b[1;32mC:\\Users/scott/Documents/apis/lexos-to-clean/working_dev\\rollingwindows2\\plotters.py:255\u001b[0m, in \u001b[0;36mRWSimplePlotter.run\u001b[1;34m(self, df)\u001b[0m\n\u001b[0;32m    252\u001b[0m \u001b[38;5;28;01mif\u001b[39;00m \u001b[38;5;28mself\u001b[39m\u001b[38;5;241m.\u001b[39mshow_milestone_labels \u001b[38;5;129;01mand\u001b[39;00m \u001b[38;5;28mself\u001b[39m\u001b[38;5;241m.\u001b[39mtitle_position \u001b[38;5;241m==\u001b[39m \u001b[38;5;124m\"\u001b[39m\u001b[38;5;124mtop\u001b[39m\u001b[38;5;124m\"\u001b[39m:\n\u001b[0;32m    253\u001b[0m \t\u001b[38;5;66;03m# Only override self.titlepad if it is the default value\u001b[39;00m\n\u001b[0;32m    254\u001b[0m \t\u001b[38;5;28;01mif\u001b[39;00m \u001b[38;5;28mself\u001b[39m\u001b[38;5;241m.\u001b[39mtitlepad \u001b[38;5;241m==\u001b[39m \u001b[38;5;241m6.0\u001b[39m:\n\u001b[1;32m--> 255\u001b[0m \t\ttitlepad \u001b[38;5;241m=\u001b[39m \u001b[38;5;28;43mself\u001b[39;49m\u001b[38;5;241;43m.\u001b[39;49m\u001b[43m_get_label_height\u001b[49m\u001b[43m(\u001b[49m\u001b[38;5;28;43mself\u001b[39;49m\u001b[38;5;241;43m.\u001b[39;49m\u001b[43mmilestone_labels\u001b[49m\u001b[43m,\u001b[49m\u001b[43m \u001b[49m\u001b[38;5;28;43mself\u001b[39;49m\u001b[38;5;241;43m.\u001b[39;49m\u001b[43mmilestone_labels_rotation\u001b[49m\u001b[43m)\u001b[49m\n\u001b[0;32m    257\u001b[0m \u001b[38;5;66;03m# Now generate the plot\u001b[39;00m\n\u001b[0;32m    258\u001b[0m fig, ax \u001b[38;5;241m=\u001b[39m plt\u001b[38;5;241m.\u001b[39msubplots(figsize\u001b[38;5;241m=\u001b[39m(width, height))\n",
      "File \u001b[1;32mC:\\Users/scott/Documents/apis/lexos-to-clean/working_dev\\rollingwindows2\\plotters.py:222\u001b[0m, in \u001b[0;36mRWSimplePlotter._get_label_height\u001b[1;34m(self, milestone_labels, milestone_labels_rotation)\u001b[0m\n\u001b[0;32m    209\u001b[0m \u001b[38;5;28;01mdef\u001b[39;00m \u001b[38;5;21m_get_label_height\u001b[39m(\u001b[38;5;28mself\u001b[39m, milestone_labels: List[\u001b[38;5;28mdict\u001b[39m], milestone_labels_rotation: \u001b[38;5;28mint\u001b[39m) \u001b[38;5;241m-\u001b[39m\u001b[38;5;241m>\u001b[39m \u001b[38;5;28mfloat\u001b[39m:\n\u001b[0;32m    210\u001b[0m \u001b[38;5;250m\t\u001b[39m\u001b[38;5;124;03m\"\"\"Calculate the height of the longest milestone label.\u001b[39;00m\n\u001b[0;32m    211\u001b[0m \n\u001b[0;32m    212\u001b[0m \u001b[38;5;124;03m\tArgs:\u001b[39;00m\n\u001b[1;32m   (...)\u001b[0m\n\u001b[0;32m    220\u001b[0m \u001b[38;5;124;03m\t\tThis method is a hack to calculate the label height using a separate plot.\u001b[39;00m\n\u001b[0;32m    221\u001b[0m \u001b[38;5;124;03m\t\"\"\"\u001b[39;00m\n\u001b[1;32m--> 222\u001b[0m \tlabels \u001b[38;5;241m=\u001b[39m [\u001b[38;5;28mlist\u001b[39m(item\u001b[38;5;241m.\u001b[39mkeys()) \u001b[38;5;28;01mfor\u001b[39;00m item \u001b[38;5;129;01min\u001b[39;00m milestone_labels]\n\u001b[0;32m    223\u001b[0m \ttmp_fig, tmp_ax \u001b[38;5;241m=\u001b[39m plt\u001b[38;5;241m.\u001b[39msubplots()\n\u001b[0;32m    224\u001b[0m \tr \u001b[38;5;241m=\u001b[39m tmp_fig\u001b[38;5;241m.\u001b[39mcanvas\u001b[38;5;241m.\u001b[39mget_renderer()\n",
      "\u001b[1;31mTypeError\u001b[0m: 'NoneType' object is not iterable"
     ]
    }
   ],
   "source": [
    "plotter = plotters.RWSimplePlotter(\n",
    "    xlabel=\"Character Count\",\n",
    "    show_milestones=True,\n",
    "    show_milestone_labels=True,\n",
    "    # milestone_labels=milestone_labels,\n",
    "    # titlepad=64.0\n",
    ")\n",
    "rw.plot(plotter=plotter)\n",
    "rw.fig"
   ]
  },
  {
   "cell_type": "markdown",
   "metadata": {},
   "source": [
    "### Overview of RWSimplePlotter Configuration\n",
    "\n",
    "The `RWSimplePlotter` class has many configuration options, which are described below. Many of them are thin wrappers around matplotlib/pyplot attributes.\n",
    "\n",
    "- `width`: The figure width in inches.\n",
    "- `height`: The figure height in inches.\n",
    "- `figsize`: A tuple containing the figure width and height in inches (overrides the `width` and `height` settings).\n",
    "- `hide_spines`: A list of [\"top\", \"right\", \"bottom\", \"left\"] indicating which spines to hide.\n",
    "- `title`: The title to use for the plot. Default is \"Rolling Windows Plot\".\n",
    "- `titlepad`: The padding in points to place between the title and the plot, which may need to be increased if you are showing milestone labels. Default is 6.0 points.\n",
    "- `title_position`: Show the title on the \"bottom\" or the \"top\" of the figure.\n",
    "- `show_legend`: Whether to show the legend.\n",
    "- `show_grid`: Whether to show the grid.\n",
    "- `xlabel`: The text to display along the x axis. Default is \"Token Count\".\n",
    "- `ylabel`: The text to display along the y axis. Default is \"Average Frequency\".\n",
    "- `show_milestones`: Whether to show the milestone markers.\n",
    "- `milestone_colors`: The colour or colours to use for milestone markers. See pyplot.vlines().\n",
    "- `milestone_style`: The style of the milestone markers. See pyplot.vlines().\n",
    "- `milestone_width`: The width of the milestone markers. See pyplot.vlines().\n",
    "- `show_milestone_labels`: Whether to show the milestone labels.\n",
    "- `milestone_labels`: A list of dicts with keys as milestone labels and values as token indexes.\n",
    "- `milestone_labels_ha`: The horizontal alignment of the milestone labels. See pyplot.annotate().\n",
    "- `milestone_labels_va`: The vertical alignment of the milestone labels. See pyplot.annotate().\n",
    "- `milestone_labels_rotation`: The rotation of the milestone labels. See pyplot.annotate().\n",
    "- `milestone_labels_offset`: A tuple containing the number of pixels along the x and y axes to offset the milestone labels. See pyplot.annotate().\n",
    "- `milestone_labels_textcoords`: Whether to offset milestone labels by pixels or points. See pyplot.annotate().\n",
    "- `use_interpolation`: Whether to use interpolation on values.\n",
    "- `interpolation_num`: Number of values to add between points.\n",
    "- `interpolation_kind`: Algorithm to use for interpolation.\n",
    "\n",
    "<span style=\"color: red;\">I need something about milestones, and milestones also need to be tested.</span>\n",
    "\n",
    "Interpolation uses the `from scipy.interpolate` module to try to smooth out the look of the visualisation by adding points between coordinates in the plot. This can create a more visually-appealing line graph but may also lead cause the graph to be deceptive. It is best to be sure that an interpolated plot clearly indicates the same peaks and valleys found in a plot without interpolation before using the interpolated plot for presentation purposes. "
   ]
  },
  {
   "cell_type": "markdown",
   "metadata": {},
   "source": [
    "## Custom Plotters\n",
    "\n",
    "Plotters are implemented with the `BasePlotter` protocol, which allows you to produce custom plotter classes. A skeleton plotter is given below.\n",
    "\n",
    "```python\n",
    "class MyCustomCalculator(BasePlotter):\n",
    "\tid: str = \"my_custom_plotter\"\n",
    "\n",
    "\tdef run(self):\n",
    "\t\t\"\"\"Use a dataframe to plot the rolling means with pyplot.\"\"\"\n",
    "\t\t...\n",
    "\n",
    "\tdef file(self, path):\n",
    "\t\t\"\"\"Save the plot to a file.\"\"\"\n",
    "\t\t...\n",
    "\n",
    "\tdef show(self):\n",
    "\t\t\"\"\"Display a plot.\"\"\"\n",
    "\t\t...\n",
    "```\n",
    "\n",
    "The `BasePlotter` protocol automatically builds the `metadata` dict and requires an `run()` method to generate the plot, a `file()` method to save the plot to a file, and a `show()` method to display the plot."
   ]
  },
  {
   "cell_type": "code",
   "execution_count": null,
   "metadata": {},
   "outputs": [],
   "source": []
  }
 ],
 "metadata": {
  "kernelspec": {
   "display_name": "Python 3",
   "language": "python",
   "name": "python3"
  },
  "language_info": {
   "codemirror_mode": {
    "name": "ipython",
    "version": 3
   },
   "file_extension": ".py",
   "mimetype": "text/x-python",
   "name": "python",
   "nbconvert_exporter": "python",
   "pygments_lexer": "ipython3",
   "version": "3.9.17"
  }
 },
 "nbformat": 4,
 "nbformat_minor": 2
}
